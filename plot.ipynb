{
 "cells": [
  {
   "cell_type": "markdown",
   "source": [
    "# Example code for QPARC Challenge 2022"
   ],
   "metadata": {}
  },
  {
   "cell_type": "code",
   "execution_count": 2,
   "source": [
    "# Import some modules.\n",
    "# You are not allowed to import qulacs.QuantumState, nor other quantum circuit simulators.\n",
    "\n",
    "from typing import Counter\n",
    "\n",
    "import numpy as np\n",
    "from openfermion.transforms import jordan_wigner\n",
    "from qulacs import QuantumCircuit\n",
    "from qulacs.gate import CZ, RY, H, Sdag, CNOT\n",
    "from scipy.optimize import minimize\n",
    "import matplotlib.pyplot as plt\n",
    "\n",
    "from qparc import (\n",
    "    QulacsExecutor,\n",
    "    create_observable_from_openfermion_text,\n",
    "    TotalShotsExceeded,\n",
    ")\n",
    "\n",
    "from qulacs import QuantumState\n",
    "from openfermion.linalg import get_sparse_operator\n",
    "from openfermion.ops import QubitOperator"
   ],
   "outputs": [],
   "metadata": {}
  },
  {
   "cell_type": "code",
   "execution_count": 3,
   "source": [
    "# Set up the executor, and get the problem hamiltonian.\n",
    "# One must run quantum circuits always through the executor.\n",
    "executor = QulacsExecutor()\n",
    "fermionic_hamiltonian, n_qubits = executor.get_problem_hamiltonian()\n",
    "\n",
    "\n",
    "# Process the Hamiltonian.\n",
    "jw_hamiltonian = jordan_wigner(fermionic_hamiltonian)\n",
    "qulacs_hamiltonian = create_observable_from_openfermion_text(str(jw_hamiltonian))"
   ],
   "outputs": [],
   "metadata": {}
  },
  {
   "cell_type": "code",
   "execution_count": 6,
   "source": [
    "#qulacsとopenfermionは各qubitが対応していない(最上位bitと最下位bitが逆)。そのためbit反転させたハミルトニアンを用意する必要がある\n",
    "\n",
    "hamiltonian = QubitOperator('', 0)\n",
    "for Pauli in jw_hamiltonian:\n",
    "    s = str(Pauli).split(\" \", 1)\n",
    "    coef = s[0].replace(\"(\", \"\").replace(\")\", \"\")\n",
    "    op = s[1].replace(\"[\", \"\").replace(\"]\", \"\")\n",
    "    for i in range(8//2):\n",
    "        op = op.replace(str(7-i), \"tmp\")\n",
    "        op = op.replace(str(i), str(7-i))\n",
    "        op = op.replace(\"tmp\", str(i))\n",
    "    term = QubitOperator(op, complex(coef))\n",
    "    hamiltonian += term\n",
    "numpy_hamiltonian = get_sparse_operator(hamiltonian).toarray()\n"
   ],
   "outputs": [],
   "metadata": {}
  },
  {
   "cell_type": "code",
   "execution_count": 7,
   "source": [
    "# One can obtain HF energy and FCI energy.\n",
    "print(\"HF energy:\", executor.hf_energy)\n",
    "print(\"FCI energy:\", executor.fci_energy)"
   ],
   "outputs": [
    {
     "output_type": "stream",
     "name": "stdout",
     "text": [
      "HF energy: -2.09854593699776\n",
      "FCI energy: -2.1663874486347625\n"
     ]
    }
   ],
   "metadata": {}
  },
  {
   "cell_type": "code",
   "execution_count": 10,
   "source": [
    "# Set up the ansatz\n",
    "def default_ansatz(n_qubits, depth, theta_list):\n",
    "    circuit = QuantumCircuit(n_qubits)\n",
    "    params_id = 0\n",
    "    for d in range(depth):\n",
    "        for i in range(n_qubits):\n",
    "            circuit.add_gate(\n",
    "                RY(i, theta_list[params_id]),\n",
    "            )\n",
    "            params_id += 1\n",
    "        for i in range(n_qubits // 2):\n",
    "            circuit.add_gate(CZ(2 * i, 2 * i + 1))\n",
    "        for i in range(n_qubits // 2 - 1):\n",
    "            circuit.add_gate(CZ(2 * i + 1, 2 * i + 2))\n",
    "    for i in range(n_qubits):\n",
    "        circuit.add_gate(RY(i, theta_list[params_id]))\n",
    "        params_id += 1\n",
    "\n",
    "    return circuit\n",
    "\n",
    "\n",
    "def improved_ansatz(n_qubits, depth, theta_list):\n",
    "    circuit = QuantumCircuit(n_qubits)\n",
    "    params_id = 0\n",
    "    for d in range(depth):\n",
    "        for i in range(n_qubits // 2):\n",
    "            circuit.add_gate(RY(2 * i, theta_list[params_id]))\n",
    "            params_id += 1\n",
    "        for i in range(n_qubits // 4):\n",
    "            circuit.add_gate(CZ(4 * i, 4 * i + 2))\n",
    "        for i in range(n_qubits // 4):\n",
    "            circuit.add_gate(CZ(4 * i + 2, (4 * i + 4) % n_qubits))\n",
    "    for i in range(n_qubits // 2):\n",
    "        circuit.add_gate(RY(2 * i, theta_list[params_id]))\n",
    "        params_id += 1\n",
    "    for i in range(n_qubits // 2):\n",
    "        circuit.add_gate(CNOT(2 * i, 2 * i + 1))\n",
    "\n",
    "    return circuit"
   ],
   "outputs": [],
   "metadata": {}
  },
  {
   "cell_type": "code",
   "execution_count": 33,
   "source": [
    "def get_exact_energy(theta_list, ansatz, depth, initial_state):\n",
    "    circuit = ansatz(n_qubits=n_qubits, depth=depth, theta_list=theta_list)\n",
    "    state = QuantumState(n_qubits)\n",
    "    state.set_computational_basis(initial_state)\n",
    "    circuit.update_quantum_state(state)\n",
    "    vec = state.get_vector()\n",
    "    return np.vdot(vec, numpy_hamiltonian @ vec).real\n",
    "\n",
    "\n",
    "def get_gradient(theta_list, ansatz, depth, initial_state):\n",
    "    g = []\n",
    "\n",
    "    param_dim = len(theta_list)\n",
    "    for i in range(param_dim):\n",
    "        shift = np.zeros(param_dim)\n",
    "        shift[i] = 0.5 * np.pi\n",
    "        gi = 0.5 * (\n",
    "            get_exact_energy(\n",
    "                theta_list=theta_list + shift,\n",
    "                ansatz=ansatz,\n",
    "                depth=depth,\n",
    "                initial_state=initial_state,\n",
    "            )\n",
    "            - get_exact_energy(\n",
    "                theta_list=theta_list - shift,\n",
    "                ansatz=ansatz,\n",
    "                depth=depth,\n",
    "                initial_state=initial_state,\n",
    "            )\n",
    "        )\n",
    "        g.append(gi)\n",
    "    return np.array(g)"
   ],
   "outputs": [],
   "metadata": {}
  },
  {
   "cell_type": "code",
   "execution_count": 51,
   "source": [
    "# 改善前のansatz回路での最適化\n",
    "\n",
    "ansatz = default_ansatz\n",
    "depth = 2\n",
    "initial_state = 0b00001111\n",
    "cost_history1 = []\n",
    "\n",
    "# Define functions to be used in the optimization process.\n",
    "def cost(theta_list):\n",
    "    ret = get_exact_energy(\n",
    "        theta_list=theta_list,\n",
    "        ansatz=ansatz,\n",
    "        depth=depth,\n",
    "        initial_state=initial_state,\n",
    "    )\n",
    "    return ret\n",
    "\n",
    "def grad(theta_list):\n",
    "    ret = get_gradient(\n",
    "        theta_list=theta_list,\n",
    "        ansatz=ansatz,\n",
    "        depth=depth,\n",
    "        initial_state=initial_state,\n",
    "    )\n",
    "    return ret\n",
    "\n",
    "def callback(theta_list):\n",
    "    cost_history1.append(cost(theta_list))\n",
    "\n",
    "init_theta_list = np.random.random(n_qubits * (depth + 1)) * 0.01\n",
    "method = \"BFGS\"\n",
    "options = {\"disp\": False, \"maxiter\": 100}\n",
    "opt = minimize(\n",
    "    cost,\n",
    "    init_theta_list,\n",
    "    method=method,\n",
    "    jac=grad,\n",
    "    options=options,\n",
    "    callback=callback,\n",
    "    tol=0\n",
    ")\n",
    "\n"
   ],
   "outputs": [],
   "metadata": {}
  },
  {
   "cell_type": "code",
   "execution_count": 52,
   "source": [
    "# 改善後のansatz回路での最適化\n",
    "ansatz = improved_ansatz\n",
    "depth = 2\n",
    "initial_state = 0b00000101\n",
    "cost_history2 = []\n",
    "\n",
    "# Define functions to be used in the optimization process.\n",
    "def cost(theta_list):\n",
    "    ret = get_exact_energy(\n",
    "        theta_list=theta_list,\n",
    "        ansatz=ansatz,\n",
    "        depth=depth,\n",
    "        initial_state=initial_state,\n",
    "    )\n",
    "    return ret\n",
    "\n",
    "def grad(theta_list):\n",
    "    ret = get_gradient(\n",
    "        theta_list=theta_list,\n",
    "        ansatz=ansatz,\n",
    "        depth=depth,\n",
    "        initial_state=initial_state,\n",
    "    )\n",
    "    return ret\n",
    "\n",
    "def callback(theta_list):\n",
    "    cost_history2.append(cost(theta_list))\n",
    "\n",
    "init_theta_list = np.random.random(n_qubits//2 * (depth + 1)) * 0.01\n",
    "method = \"BFGS\"\n",
    "options = {\"disp\": False, \"maxiter\": 100}\n",
    "opt = minimize(\n",
    "    cost,\n",
    "    init_theta_list,\n",
    "    method=method,\n",
    "    jac=grad,\n",
    "    options=options,\n",
    "    callback=callback,\n",
    "    tol=0\n",
    ")\n"
   ],
   "outputs": [],
   "metadata": {}
  },
  {
   "cell_type": "code",
   "execution_count": 53,
   "source": [
    "print(cost_history1)\n",
    "print(len(cost_history1))"
   ],
   "outputs": [
    {
     "output_type": "stream",
     "name": "stdout",
     "text": [
      "[-2.098527533624614, -2.098543038954853, -2.0985456079000295, -2.098545922197084, -2.0985459350662787, -2.0985459365643875, -2.098545936647568, -2.0985459366495394, -2.0985459366495713, -2.098545936649625, -2.0985459366497206, -2.0985459366498995, -2.0985459366502353, -2.0985459366508614, -2.0985459366520107, -2.098545936654077, -2.098545936657669, -2.0985459366636947, -2.098545936673603, -2.0985459366901242, -2.098545936718233, -2.098545936765779, -2.0985459368414996, -2.0985459369266155, -2.0985459369557837, -2.0985459369615125, -2.098545936962681, -2.0985459369628754, -2.0985459369628816, -2.0985459369628856, -2.098545936962886, -2.0985459369628905, -2.0985459369629007, -2.098545936962921, -2.098545936962956, -2.0985459369630193, -2.098545936963132, -2.0985459369633284, -2.09854593696366, -2.098545936964219, -2.0985459369651798, -2.0985459369668504, -2.098545936969738, -2.098545936974561, -2.0985459369818837, -2.0985459369884394, -2.098545936991397, -2.098545936992088, -2.0985459369921924, -2.098545936992201, -2.0985459369922026, -2.098545936992205]\n",
      "52\n"
     ]
    }
   ],
   "metadata": {}
  },
  {
   "cell_type": "code",
   "execution_count": 62,
   "source": [
    "fig, ax = plt.subplots()\n",
    "\n",
    "ax.set_xlabel(\"number of iterations\")\n",
    "ax.set_ylabel(\"funcion value\")\n",
    "\n",
    "ax.plot(cost_history1, label=\"default\")\n",
    "ax.plot(cost_history2, label=\"improved\")\n",
    "ax.legend(loc=1)\n",
    "fig.tight_layout()\n",
    "plt.show()"
   ],
   "outputs": [
    {
     "output_type": "display_data",
     "data": {
      "text/plain": [
       "<Figure size 432x288 with 1 Axes>"
      ],
      "image/svg+xml": "<?xml version=\"1.0\" encoding=\"utf-8\" standalone=\"no\"?>\n<!DOCTYPE svg PUBLIC \"-//W3C//DTD SVG 1.1//EN\"\n  \"http://www.w3.org/Graphics/SVG/1.1/DTD/svg11.dtd\">\n<svg xmlns:xlink=\"http://www.w3.org/1999/xlink\" width=\"424.327072pt\" height=\"280.15625pt\" viewBox=\"0 0 424.327072 280.15625\" xmlns=\"http://www.w3.org/2000/svg\" version=\"1.1\">\n <metadata>\n  <rdf:RDF xmlns:dc=\"http://purl.org/dc/elements/1.1/\" xmlns:cc=\"http://creativecommons.org/ns#\" xmlns:rdf=\"http://www.w3.org/1999/02/22-rdf-syntax-ns#\">\n   <cc:Work>\n    <dc:type rdf:resource=\"http://purl.org/dc/dcmitype/StillImage\"/>\n    <dc:date>2022-05-21T18:51:26.080785</dc:date>\n    <dc:format>image/svg+xml</dc:format>\n    <dc:creator>\n     <cc:Agent>\n      <dc:title>Matplotlib v3.5.2, https://matplotlib.org/</dc:title>\n     </cc:Agent>\n    </dc:creator>\n   </cc:Work>\n  </rdf:RDF>\n </metadata>\n <defs>\n  <style type=\"text/css\">*{stroke-linejoin: round; stroke-linecap: butt}</style>\n </defs>\n <g id=\"figure_1\">\n  <g id=\"patch_1\">\n   <path d=\"M 0 280.15625 \nL 424.327072 280.15625 \nL 424.327072 0 \nL 0 0 \nL 0 280.15625 \nz\n\" style=\"fill: none\"/>\n  </g>\n  <g id=\"axes_1\">\n   <g id=\"patch_2\">\n    <path d=\"M 64.885938 242.6 \nL 414.270796 242.6 \nL 414.270796 7.2 \nL 64.885938 7.2 \nz\n\" style=\"fill: #ffffff\"/>\n   </g>\n   <g id=\"matplotlib.axis_1\">\n    <g id=\"xtick_1\">\n     <g id=\"line2d_1\">\n      <defs>\n       <path id=\"me9dd9c7981\" d=\"M 0 0 \nL 0 3.5 \n\" style=\"stroke: #000000; stroke-width: 0.8\"/>\n      </defs>\n      <g>\n       <use xlink:href=\"#me9dd9c7981\" x=\"80.767067\" y=\"242.6\" style=\"stroke: #000000; stroke-width: 0.8\"/>\n      </g>\n     </g>\n     <g id=\"text_1\">\n      <!-- 0 -->\n      <g transform=\"translate(77.585817 257.198437)scale(0.1 -0.1)\">\n       <defs>\n        <path id=\"DejaVuSans-30\" d=\"M 2034 4250 \nQ 1547 4250 1301 3770 \nQ 1056 3291 1056 2328 \nQ 1056 1369 1301 889 \nQ 1547 409 2034 409 \nQ 2525 409 2770 889 \nQ 3016 1369 3016 2328 \nQ 3016 3291 2770 3770 \nQ 2525 4250 2034 4250 \nz\nM 2034 4750 \nQ 2819 4750 3233 4129 \nQ 3647 3509 3647 2328 \nQ 3647 1150 3233 529 \nQ 2819 -91 2034 -91 \nQ 1250 -91 836 529 \nQ 422 1150 422 2328 \nQ 422 3509 836 4129 \nQ 1250 4750 2034 4750 \nz\n\" transform=\"scale(0.015625)\"/>\n       </defs>\n       <use xlink:href=\"#DejaVuSans-30\"/>\n      </g>\n     </g>\n    </g>\n    <g id=\"xtick_2\">\n     <g id=\"line2d_2\">\n      <g>\n       <use xlink:href=\"#me9dd9c7981\" x=\"122.016756\" y=\"242.6\" style=\"stroke: #000000; stroke-width: 0.8\"/>\n      </g>\n     </g>\n     <g id=\"text_2\">\n      <!-- 10 -->\n      <g transform=\"translate(115.654256 257.198437)scale(0.1 -0.1)\">\n       <defs>\n        <path id=\"DejaVuSans-31\" d=\"M 794 531 \nL 1825 531 \nL 1825 4091 \nL 703 3866 \nL 703 4441 \nL 1819 4666 \nL 2450 4666 \nL 2450 531 \nL 3481 531 \nL 3481 0 \nL 794 0 \nL 794 531 \nz\n\" transform=\"scale(0.015625)\"/>\n       </defs>\n       <use xlink:href=\"#DejaVuSans-31\"/>\n       <use xlink:href=\"#DejaVuSans-30\" x=\"63.623047\"/>\n      </g>\n     </g>\n    </g>\n    <g id=\"xtick_3\">\n     <g id=\"line2d_3\">\n      <g>\n       <use xlink:href=\"#me9dd9c7981\" x=\"163.266444\" y=\"242.6\" style=\"stroke: #000000; stroke-width: 0.8\"/>\n      </g>\n     </g>\n     <g id=\"text_3\">\n      <!-- 20 -->\n      <g transform=\"translate(156.903944 257.198437)scale(0.1 -0.1)\">\n       <defs>\n        <path id=\"DejaVuSans-32\" d=\"M 1228 531 \nL 3431 531 \nL 3431 0 \nL 469 0 \nL 469 531 \nQ 828 903 1448 1529 \nQ 2069 2156 2228 2338 \nQ 2531 2678 2651 2914 \nQ 2772 3150 2772 3378 \nQ 2772 3750 2511 3984 \nQ 2250 4219 1831 4219 \nQ 1534 4219 1204 4116 \nQ 875 4013 500 3803 \nL 500 4441 \nQ 881 4594 1212 4672 \nQ 1544 4750 1819 4750 \nQ 2544 4750 2975 4387 \nQ 3406 4025 3406 3419 \nQ 3406 3131 3298 2873 \nQ 3191 2616 2906 2266 \nQ 2828 2175 2409 1742 \nQ 1991 1309 1228 531 \nz\n\" transform=\"scale(0.015625)\"/>\n       </defs>\n       <use xlink:href=\"#DejaVuSans-32\"/>\n       <use xlink:href=\"#DejaVuSans-30\" x=\"63.623047\"/>\n      </g>\n     </g>\n    </g>\n    <g id=\"xtick_4\">\n     <g id=\"line2d_4\">\n      <g>\n       <use xlink:href=\"#me9dd9c7981\" x=\"204.516132\" y=\"242.6\" style=\"stroke: #000000; stroke-width: 0.8\"/>\n      </g>\n     </g>\n     <g id=\"text_4\">\n      <!-- 30 -->\n      <g transform=\"translate(198.153632 257.198437)scale(0.1 -0.1)\">\n       <defs>\n        <path id=\"DejaVuSans-33\" d=\"M 2597 2516 \nQ 3050 2419 3304 2112 \nQ 3559 1806 3559 1356 \nQ 3559 666 3084 287 \nQ 2609 -91 1734 -91 \nQ 1441 -91 1130 -33 \nQ 819 25 488 141 \nL 488 750 \nQ 750 597 1062 519 \nQ 1375 441 1716 441 \nQ 2309 441 2620 675 \nQ 2931 909 2931 1356 \nQ 2931 1769 2642 2001 \nQ 2353 2234 1838 2234 \nL 1294 2234 \nL 1294 2753 \nL 1863 2753 \nQ 2328 2753 2575 2939 \nQ 2822 3125 2822 3475 \nQ 2822 3834 2567 4026 \nQ 2313 4219 1838 4219 \nQ 1578 4219 1281 4162 \nQ 984 4106 628 3988 \nL 628 4550 \nQ 988 4650 1302 4700 \nQ 1616 4750 1894 4750 \nQ 2613 4750 3031 4423 \nQ 3450 4097 3450 3541 \nQ 3450 3153 3228 2886 \nQ 3006 2619 2597 2516 \nz\n\" transform=\"scale(0.015625)\"/>\n       </defs>\n       <use xlink:href=\"#DejaVuSans-33\"/>\n       <use xlink:href=\"#DejaVuSans-30\" x=\"63.623047\"/>\n      </g>\n     </g>\n    </g>\n    <g id=\"xtick_5\">\n     <g id=\"line2d_5\">\n      <g>\n       <use xlink:href=\"#me9dd9c7981\" x=\"245.76582\" y=\"242.6\" style=\"stroke: #000000; stroke-width: 0.8\"/>\n      </g>\n     </g>\n     <g id=\"text_5\">\n      <!-- 40 -->\n      <g transform=\"translate(239.40332 257.198437)scale(0.1 -0.1)\">\n       <defs>\n        <path id=\"DejaVuSans-34\" d=\"M 2419 4116 \nL 825 1625 \nL 2419 1625 \nL 2419 4116 \nz\nM 2253 4666 \nL 3047 4666 \nL 3047 1625 \nL 3713 1625 \nL 3713 1100 \nL 3047 1100 \nL 3047 0 \nL 2419 0 \nL 2419 1100 \nL 313 1100 \nL 313 1709 \nL 2253 4666 \nz\n\" transform=\"scale(0.015625)\"/>\n       </defs>\n       <use xlink:href=\"#DejaVuSans-34\"/>\n       <use xlink:href=\"#DejaVuSans-30\" x=\"63.623047\"/>\n      </g>\n     </g>\n    </g>\n    <g id=\"xtick_6\">\n     <g id=\"line2d_6\">\n      <g>\n       <use xlink:href=\"#me9dd9c7981\" x=\"287.015508\" y=\"242.6\" style=\"stroke: #000000; stroke-width: 0.8\"/>\n      </g>\n     </g>\n     <g id=\"text_6\">\n      <!-- 50 -->\n      <g transform=\"translate(280.653008 257.198437)scale(0.1 -0.1)\">\n       <defs>\n        <path id=\"DejaVuSans-35\" d=\"M 691 4666 \nL 3169 4666 \nL 3169 4134 \nL 1269 4134 \nL 1269 2991 \nQ 1406 3038 1543 3061 \nQ 1681 3084 1819 3084 \nQ 2600 3084 3056 2656 \nQ 3513 2228 3513 1497 \nQ 3513 744 3044 326 \nQ 2575 -91 1722 -91 \nQ 1428 -91 1123 -41 \nQ 819 9 494 109 \nL 494 744 \nQ 775 591 1075 516 \nQ 1375 441 1709 441 \nQ 2250 441 2565 725 \nQ 2881 1009 2881 1497 \nQ 2881 1984 2565 2268 \nQ 2250 2553 1709 2553 \nQ 1456 2553 1204 2497 \nQ 953 2441 691 2322 \nL 691 4666 \nz\n\" transform=\"scale(0.015625)\"/>\n       </defs>\n       <use xlink:href=\"#DejaVuSans-35\"/>\n       <use xlink:href=\"#DejaVuSans-30\" x=\"63.623047\"/>\n      </g>\n     </g>\n    </g>\n    <g id=\"xtick_7\">\n     <g id=\"line2d_7\">\n      <g>\n       <use xlink:href=\"#me9dd9c7981\" x=\"328.265196\" y=\"242.6\" style=\"stroke: #000000; stroke-width: 0.8\"/>\n      </g>\n     </g>\n     <g id=\"text_7\">\n      <!-- 60 -->\n      <g transform=\"translate(321.902696 257.198437)scale(0.1 -0.1)\">\n       <defs>\n        <path id=\"DejaVuSans-36\" d=\"M 2113 2584 \nQ 1688 2584 1439 2293 \nQ 1191 2003 1191 1497 \nQ 1191 994 1439 701 \nQ 1688 409 2113 409 \nQ 2538 409 2786 701 \nQ 3034 994 3034 1497 \nQ 3034 2003 2786 2293 \nQ 2538 2584 2113 2584 \nz\nM 3366 4563 \nL 3366 3988 \nQ 3128 4100 2886 4159 \nQ 2644 4219 2406 4219 \nQ 1781 4219 1451 3797 \nQ 1122 3375 1075 2522 \nQ 1259 2794 1537 2939 \nQ 1816 3084 2150 3084 \nQ 2853 3084 3261 2657 \nQ 3669 2231 3669 1497 \nQ 3669 778 3244 343 \nQ 2819 -91 2113 -91 \nQ 1303 -91 875 529 \nQ 447 1150 447 2328 \nQ 447 3434 972 4092 \nQ 1497 4750 2381 4750 \nQ 2619 4750 2861 4703 \nQ 3103 4656 3366 4563 \nz\n\" transform=\"scale(0.015625)\"/>\n       </defs>\n       <use xlink:href=\"#DejaVuSans-36\"/>\n       <use xlink:href=\"#DejaVuSans-30\" x=\"63.623047\"/>\n      </g>\n     </g>\n    </g>\n    <g id=\"xtick_8\">\n     <g id=\"line2d_8\">\n      <g>\n       <use xlink:href=\"#me9dd9c7981\" x=\"369.514884\" y=\"242.6\" style=\"stroke: #000000; stroke-width: 0.8\"/>\n      </g>\n     </g>\n     <g id=\"text_8\">\n      <!-- 70 -->\n      <g transform=\"translate(363.152384 257.198437)scale(0.1 -0.1)\">\n       <defs>\n        <path id=\"DejaVuSans-37\" d=\"M 525 4666 \nL 3525 4666 \nL 3525 4397 \nL 1831 0 \nL 1172 0 \nL 2766 4134 \nL 525 4134 \nL 525 4666 \nz\n\" transform=\"scale(0.015625)\"/>\n       </defs>\n       <use xlink:href=\"#DejaVuSans-37\"/>\n       <use xlink:href=\"#DejaVuSans-30\" x=\"63.623047\"/>\n      </g>\n     </g>\n    </g>\n    <g id=\"xtick_9\">\n     <g id=\"line2d_9\">\n      <g>\n       <use xlink:href=\"#me9dd9c7981\" x=\"410.764572\" y=\"242.6\" style=\"stroke: #000000; stroke-width: 0.8\"/>\n      </g>\n     </g>\n     <g id=\"text_9\">\n      <!-- 80 -->\n      <g transform=\"translate(404.402072 257.198437)scale(0.1 -0.1)\">\n       <defs>\n        <path id=\"DejaVuSans-38\" d=\"M 2034 2216 \nQ 1584 2216 1326 1975 \nQ 1069 1734 1069 1313 \nQ 1069 891 1326 650 \nQ 1584 409 2034 409 \nQ 2484 409 2743 651 \nQ 3003 894 3003 1313 \nQ 3003 1734 2745 1975 \nQ 2488 2216 2034 2216 \nz\nM 1403 2484 \nQ 997 2584 770 2862 \nQ 544 3141 544 3541 \nQ 544 4100 942 4425 \nQ 1341 4750 2034 4750 \nQ 2731 4750 3128 4425 \nQ 3525 4100 3525 3541 \nQ 3525 3141 3298 2862 \nQ 3072 2584 2669 2484 \nQ 3125 2378 3379 2068 \nQ 3634 1759 3634 1313 \nQ 3634 634 3220 271 \nQ 2806 -91 2034 -91 \nQ 1263 -91 848 271 \nQ 434 634 434 1313 \nQ 434 1759 690 2068 \nQ 947 2378 1403 2484 \nz\nM 1172 3481 \nQ 1172 3119 1398 2916 \nQ 1625 2713 2034 2713 \nQ 2441 2713 2670 2916 \nQ 2900 3119 2900 3481 \nQ 2900 3844 2670 4047 \nQ 2441 4250 2034 4250 \nQ 1625 4250 1398 4047 \nQ 1172 3844 1172 3481 \nz\n\" transform=\"scale(0.015625)\"/>\n       </defs>\n       <use xlink:href=\"#DejaVuSans-38\"/>\n       <use xlink:href=\"#DejaVuSans-30\" x=\"63.623047\"/>\n      </g>\n     </g>\n    </g>\n    <g id=\"text_10\">\n     <!-- number of iterations -->\n     <g transform=\"translate(188.339304 270.876562)scale(0.1 -0.1)\">\n      <defs>\n       <path id=\"DejaVuSans-6e\" d=\"M 3513 2113 \nL 3513 0 \nL 2938 0 \nL 2938 2094 \nQ 2938 2591 2744 2837 \nQ 2550 3084 2163 3084 \nQ 1697 3084 1428 2787 \nQ 1159 2491 1159 1978 \nL 1159 0 \nL 581 0 \nL 581 3500 \nL 1159 3500 \nL 1159 2956 \nQ 1366 3272 1645 3428 \nQ 1925 3584 2291 3584 \nQ 2894 3584 3203 3211 \nQ 3513 2838 3513 2113 \nz\n\" transform=\"scale(0.015625)\"/>\n       <path id=\"DejaVuSans-75\" d=\"M 544 1381 \nL 544 3500 \nL 1119 3500 \nL 1119 1403 \nQ 1119 906 1312 657 \nQ 1506 409 1894 409 \nQ 2359 409 2629 706 \nQ 2900 1003 2900 1516 \nL 2900 3500 \nL 3475 3500 \nL 3475 0 \nL 2900 0 \nL 2900 538 \nQ 2691 219 2414 64 \nQ 2138 -91 1772 -91 \nQ 1169 -91 856 284 \nQ 544 659 544 1381 \nz\nM 1991 3584 \nL 1991 3584 \nz\n\" transform=\"scale(0.015625)\"/>\n       <path id=\"DejaVuSans-6d\" d=\"M 3328 2828 \nQ 3544 3216 3844 3400 \nQ 4144 3584 4550 3584 \nQ 5097 3584 5394 3201 \nQ 5691 2819 5691 2113 \nL 5691 0 \nL 5113 0 \nL 5113 2094 \nQ 5113 2597 4934 2840 \nQ 4756 3084 4391 3084 \nQ 3944 3084 3684 2787 \nQ 3425 2491 3425 1978 \nL 3425 0 \nL 2847 0 \nL 2847 2094 \nQ 2847 2600 2669 2842 \nQ 2491 3084 2119 3084 \nQ 1678 3084 1418 2786 \nQ 1159 2488 1159 1978 \nL 1159 0 \nL 581 0 \nL 581 3500 \nL 1159 3500 \nL 1159 2956 \nQ 1356 3278 1631 3431 \nQ 1906 3584 2284 3584 \nQ 2666 3584 2933 3390 \nQ 3200 3197 3328 2828 \nz\n\" transform=\"scale(0.015625)\"/>\n       <path id=\"DejaVuSans-62\" d=\"M 3116 1747 \nQ 3116 2381 2855 2742 \nQ 2594 3103 2138 3103 \nQ 1681 3103 1420 2742 \nQ 1159 2381 1159 1747 \nQ 1159 1113 1420 752 \nQ 1681 391 2138 391 \nQ 2594 391 2855 752 \nQ 3116 1113 3116 1747 \nz\nM 1159 2969 \nQ 1341 3281 1617 3432 \nQ 1894 3584 2278 3584 \nQ 2916 3584 3314 3078 \nQ 3713 2572 3713 1747 \nQ 3713 922 3314 415 \nQ 2916 -91 2278 -91 \nQ 1894 -91 1617 61 \nQ 1341 213 1159 525 \nL 1159 0 \nL 581 0 \nL 581 4863 \nL 1159 4863 \nL 1159 2969 \nz\n\" transform=\"scale(0.015625)\"/>\n       <path id=\"DejaVuSans-65\" d=\"M 3597 1894 \nL 3597 1613 \nL 953 1613 \nQ 991 1019 1311 708 \nQ 1631 397 2203 397 \nQ 2534 397 2845 478 \nQ 3156 559 3463 722 \nL 3463 178 \nQ 3153 47 2828 -22 \nQ 2503 -91 2169 -91 \nQ 1331 -91 842 396 \nQ 353 884 353 1716 \nQ 353 2575 817 3079 \nQ 1281 3584 2069 3584 \nQ 2775 3584 3186 3129 \nQ 3597 2675 3597 1894 \nz\nM 3022 2063 \nQ 3016 2534 2758 2815 \nQ 2500 3097 2075 3097 \nQ 1594 3097 1305 2825 \nQ 1016 2553 972 2059 \nL 3022 2063 \nz\n\" transform=\"scale(0.015625)\"/>\n       <path id=\"DejaVuSans-72\" d=\"M 2631 2963 \nQ 2534 3019 2420 3045 \nQ 2306 3072 2169 3072 \nQ 1681 3072 1420 2755 \nQ 1159 2438 1159 1844 \nL 1159 0 \nL 581 0 \nL 581 3500 \nL 1159 3500 \nL 1159 2956 \nQ 1341 3275 1631 3429 \nQ 1922 3584 2338 3584 \nQ 2397 3584 2469 3576 \nQ 2541 3569 2628 3553 \nL 2631 2963 \nz\n\" transform=\"scale(0.015625)\"/>\n       <path id=\"DejaVuSans-20\" transform=\"scale(0.015625)\"/>\n       <path id=\"DejaVuSans-6f\" d=\"M 1959 3097 \nQ 1497 3097 1228 2736 \nQ 959 2375 959 1747 \nQ 959 1119 1226 758 \nQ 1494 397 1959 397 \nQ 2419 397 2687 759 \nQ 2956 1122 2956 1747 \nQ 2956 2369 2687 2733 \nQ 2419 3097 1959 3097 \nz\nM 1959 3584 \nQ 2709 3584 3137 3096 \nQ 3566 2609 3566 1747 \nQ 3566 888 3137 398 \nQ 2709 -91 1959 -91 \nQ 1206 -91 779 398 \nQ 353 888 353 1747 \nQ 353 2609 779 3096 \nQ 1206 3584 1959 3584 \nz\n\" transform=\"scale(0.015625)\"/>\n       <path id=\"DejaVuSans-66\" d=\"M 2375 4863 \nL 2375 4384 \nL 1825 4384 \nQ 1516 4384 1395 4259 \nQ 1275 4134 1275 3809 \nL 1275 3500 \nL 2222 3500 \nL 2222 3053 \nL 1275 3053 \nL 1275 0 \nL 697 0 \nL 697 3053 \nL 147 3053 \nL 147 3500 \nL 697 3500 \nL 697 3744 \nQ 697 4328 969 4595 \nQ 1241 4863 1831 4863 \nL 2375 4863 \nz\n\" transform=\"scale(0.015625)\"/>\n       <path id=\"DejaVuSans-69\" d=\"M 603 3500 \nL 1178 3500 \nL 1178 0 \nL 603 0 \nL 603 3500 \nz\nM 603 4863 \nL 1178 4863 \nL 1178 4134 \nL 603 4134 \nL 603 4863 \nz\n\" transform=\"scale(0.015625)\"/>\n       <path id=\"DejaVuSans-74\" d=\"M 1172 4494 \nL 1172 3500 \nL 2356 3500 \nL 2356 3053 \nL 1172 3053 \nL 1172 1153 \nQ 1172 725 1289 603 \nQ 1406 481 1766 481 \nL 2356 481 \nL 2356 0 \nL 1766 0 \nQ 1100 0 847 248 \nQ 594 497 594 1153 \nL 594 3053 \nL 172 3053 \nL 172 3500 \nL 594 3500 \nL 594 4494 \nL 1172 4494 \nz\n\" transform=\"scale(0.015625)\"/>\n       <path id=\"DejaVuSans-61\" d=\"M 2194 1759 \nQ 1497 1759 1228 1600 \nQ 959 1441 959 1056 \nQ 959 750 1161 570 \nQ 1363 391 1709 391 \nQ 2188 391 2477 730 \nQ 2766 1069 2766 1631 \nL 2766 1759 \nL 2194 1759 \nz\nM 3341 1997 \nL 3341 0 \nL 2766 0 \nL 2766 531 \nQ 2569 213 2275 61 \nQ 1981 -91 1556 -91 \nQ 1019 -91 701 211 \nQ 384 513 384 1019 \nQ 384 1609 779 1909 \nQ 1175 2209 1959 2209 \nL 2766 2209 \nL 2766 2266 \nQ 2766 2663 2505 2880 \nQ 2244 3097 1772 3097 \nQ 1472 3097 1187 3025 \nQ 903 2953 641 2809 \nL 641 3341 \nQ 956 3463 1253 3523 \nQ 1550 3584 1831 3584 \nQ 2591 3584 2966 3190 \nQ 3341 2797 3341 1997 \nz\n\" transform=\"scale(0.015625)\"/>\n       <path id=\"DejaVuSans-73\" d=\"M 2834 3397 \nL 2834 2853 \nQ 2591 2978 2328 3040 \nQ 2066 3103 1784 3103 \nQ 1356 3103 1142 2972 \nQ 928 2841 928 2578 \nQ 928 2378 1081 2264 \nQ 1234 2150 1697 2047 \nL 1894 2003 \nQ 2506 1872 2764 1633 \nQ 3022 1394 3022 966 \nQ 3022 478 2636 193 \nQ 2250 -91 1575 -91 \nQ 1294 -91 989 -36 \nQ 684 19 347 128 \nL 347 722 \nQ 666 556 975 473 \nQ 1284 391 1588 391 \nQ 1994 391 2212 530 \nQ 2431 669 2431 922 \nQ 2431 1156 2273 1281 \nQ 2116 1406 1581 1522 \nL 1381 1569 \nQ 847 1681 609 1914 \nQ 372 2147 372 2553 \nQ 372 3047 722 3315 \nQ 1072 3584 1716 3584 \nQ 2034 3584 2315 3537 \nQ 2597 3491 2834 3397 \nz\n\" transform=\"scale(0.015625)\"/>\n      </defs>\n      <use xlink:href=\"#DejaVuSans-6e\"/>\n      <use xlink:href=\"#DejaVuSans-75\" x=\"63.378906\"/>\n      <use xlink:href=\"#DejaVuSans-6d\" x=\"126.757812\"/>\n      <use xlink:href=\"#DejaVuSans-62\" x=\"224.169922\"/>\n      <use xlink:href=\"#DejaVuSans-65\" x=\"287.646484\"/>\n      <use xlink:href=\"#DejaVuSans-72\" x=\"349.169922\"/>\n      <use xlink:href=\"#DejaVuSans-20\" x=\"390.283203\"/>\n      <use xlink:href=\"#DejaVuSans-6f\" x=\"422.070312\"/>\n      <use xlink:href=\"#DejaVuSans-66\" x=\"483.251953\"/>\n      <use xlink:href=\"#DejaVuSans-20\" x=\"518.457031\"/>\n      <use xlink:href=\"#DejaVuSans-69\" x=\"550.244141\"/>\n      <use xlink:href=\"#DejaVuSans-74\" x=\"578.027344\"/>\n      <use xlink:href=\"#DejaVuSans-65\" x=\"617.236328\"/>\n      <use xlink:href=\"#DejaVuSans-72\" x=\"678.759766\"/>\n      <use xlink:href=\"#DejaVuSans-61\" x=\"719.873047\"/>\n      <use xlink:href=\"#DejaVuSans-74\" x=\"781.152344\"/>\n      <use xlink:href=\"#DejaVuSans-69\" x=\"820.361328\"/>\n      <use xlink:href=\"#DejaVuSans-6f\" x=\"848.144531\"/>\n      <use xlink:href=\"#DejaVuSans-6e\" x=\"909.326172\"/>\n      <use xlink:href=\"#DejaVuSans-73\" x=\"972.705078\"/>\n     </g>\n    </g>\n   </g>\n   <g id=\"matplotlib.axis_2\">\n    <g id=\"ytick_1\">\n     <g id=\"line2d_10\">\n      <defs>\n       <path id=\"mf7831e086b\" d=\"M 0 0 \nL -3.5 0 \n\" style=\"stroke: #000000; stroke-width: 0.8\"/>\n      </defs>\n      <g>\n       <use xlink:href=\"#mf7831e086b\" x=\"64.885938\" y=\"221.787289\" style=\"stroke: #000000; stroke-width: 0.8\"/>\n      </g>\n     </g>\n     <g id=\"text_11\">\n      <!-- −2.125 -->\n      <g transform=\"translate(20.878125 225.586507)scale(0.1 -0.1)\">\n       <defs>\n        <path id=\"DejaVuSans-2212\" d=\"M 678 2272 \nL 4684 2272 \nL 4684 1741 \nL 678 1741 \nL 678 2272 \nz\n\" transform=\"scale(0.015625)\"/>\n        <path id=\"DejaVuSans-2e\" d=\"M 684 794 \nL 1344 794 \nL 1344 0 \nL 684 0 \nL 684 794 \nz\n\" transform=\"scale(0.015625)\"/>\n       </defs>\n       <use xlink:href=\"#DejaVuSans-2212\"/>\n       <use xlink:href=\"#DejaVuSans-32\" x=\"83.789062\"/>\n       <use xlink:href=\"#DejaVuSans-2e\" x=\"147.412109\"/>\n       <use xlink:href=\"#DejaVuSans-31\" x=\"179.199219\"/>\n       <use xlink:href=\"#DejaVuSans-32\" x=\"242.822266\"/>\n       <use xlink:href=\"#DejaVuSans-35\" x=\"306.445312\"/>\n      </g>\n     </g>\n    </g>\n    <g id=\"ytick_2\">\n     <g id=\"line2d_11\">\n      <g>\n       <use xlink:href=\"#mf7831e086b\" x=\"64.885938\" y=\"183.277978\" style=\"stroke: #000000; stroke-width: 0.8\"/>\n      </g>\n     </g>\n     <g id=\"text_12\">\n      <!-- −2.120 -->\n      <g transform=\"translate(20.878125 187.077196)scale(0.1 -0.1)\">\n       <use xlink:href=\"#DejaVuSans-2212\"/>\n       <use xlink:href=\"#DejaVuSans-32\" x=\"83.789062\"/>\n       <use xlink:href=\"#DejaVuSans-2e\" x=\"147.412109\"/>\n       <use xlink:href=\"#DejaVuSans-31\" x=\"179.199219\"/>\n       <use xlink:href=\"#DejaVuSans-32\" x=\"242.822266\"/>\n       <use xlink:href=\"#DejaVuSans-30\" x=\"306.445312\"/>\n      </g>\n     </g>\n    </g>\n    <g id=\"ytick_3\">\n     <g id=\"line2d_12\">\n      <g>\n       <use xlink:href=\"#mf7831e086b\" x=\"64.885938\" y=\"144.768666\" style=\"stroke: #000000; stroke-width: 0.8\"/>\n      </g>\n     </g>\n     <g id=\"text_13\">\n      <!-- −2.115 -->\n      <g transform=\"translate(20.878125 148.567885)scale(0.1 -0.1)\">\n       <use xlink:href=\"#DejaVuSans-2212\"/>\n       <use xlink:href=\"#DejaVuSans-32\" x=\"83.789062\"/>\n       <use xlink:href=\"#DejaVuSans-2e\" x=\"147.412109\"/>\n       <use xlink:href=\"#DejaVuSans-31\" x=\"179.199219\"/>\n       <use xlink:href=\"#DejaVuSans-31\" x=\"242.822266\"/>\n       <use xlink:href=\"#DejaVuSans-35\" x=\"306.445312\"/>\n      </g>\n     </g>\n    </g>\n    <g id=\"ytick_4\">\n     <g id=\"line2d_13\">\n      <g>\n       <use xlink:href=\"#mf7831e086b\" x=\"64.885938\" y=\"106.259355\" style=\"stroke: #000000; stroke-width: 0.8\"/>\n      </g>\n     </g>\n     <g id=\"text_14\">\n      <!-- −2.110 -->\n      <g transform=\"translate(20.878125 110.058574)scale(0.1 -0.1)\">\n       <use xlink:href=\"#DejaVuSans-2212\"/>\n       <use xlink:href=\"#DejaVuSans-32\" x=\"83.789062\"/>\n       <use xlink:href=\"#DejaVuSans-2e\" x=\"147.412109\"/>\n       <use xlink:href=\"#DejaVuSans-31\" x=\"179.199219\"/>\n       <use xlink:href=\"#DejaVuSans-31\" x=\"242.822266\"/>\n       <use xlink:href=\"#DejaVuSans-30\" x=\"306.445312\"/>\n      </g>\n     </g>\n    </g>\n    <g id=\"ytick_5\">\n     <g id=\"line2d_14\">\n      <g>\n       <use xlink:href=\"#mf7831e086b\" x=\"64.885938\" y=\"67.750044\" style=\"stroke: #000000; stroke-width: 0.8\"/>\n      </g>\n     </g>\n     <g id=\"text_15\">\n      <!-- −2.105 -->\n      <g transform=\"translate(20.878125 71.549263)scale(0.1 -0.1)\">\n       <use xlink:href=\"#DejaVuSans-2212\"/>\n       <use xlink:href=\"#DejaVuSans-32\" x=\"83.789062\"/>\n       <use xlink:href=\"#DejaVuSans-2e\" x=\"147.412109\"/>\n       <use xlink:href=\"#DejaVuSans-31\" x=\"179.199219\"/>\n       <use xlink:href=\"#DejaVuSans-30\" x=\"242.822266\"/>\n       <use xlink:href=\"#DejaVuSans-35\" x=\"306.445312\"/>\n      </g>\n     </g>\n    </g>\n    <g id=\"ytick_6\">\n     <g id=\"line2d_15\">\n      <g>\n       <use xlink:href=\"#mf7831e086b\" x=\"64.885938\" y=\"29.240733\" style=\"stroke: #000000; stroke-width: 0.8\"/>\n      </g>\n     </g>\n     <g id=\"text_16\">\n      <!-- −2.100 -->\n      <g transform=\"translate(20.878125 33.039952)scale(0.1 -0.1)\">\n       <use xlink:href=\"#DejaVuSans-2212\"/>\n       <use xlink:href=\"#DejaVuSans-32\" x=\"83.789062\"/>\n       <use xlink:href=\"#DejaVuSans-2e\" x=\"147.412109\"/>\n       <use xlink:href=\"#DejaVuSans-31\" x=\"179.199219\"/>\n       <use xlink:href=\"#DejaVuSans-30\" x=\"242.822266\"/>\n       <use xlink:href=\"#DejaVuSans-30\" x=\"306.445312\"/>\n      </g>\n     </g>\n    </g>\n    <g id=\"text_17\">\n     <!-- funcion value -->\n     <g transform=\"translate(14.798438 158.610937)rotate(-90)scale(0.1 -0.1)\">\n      <defs>\n       <path id=\"DejaVuSans-63\" d=\"M 3122 3366 \nL 3122 2828 \nQ 2878 2963 2633 3030 \nQ 2388 3097 2138 3097 \nQ 1578 3097 1268 2742 \nQ 959 2388 959 1747 \nQ 959 1106 1268 751 \nQ 1578 397 2138 397 \nQ 2388 397 2633 464 \nQ 2878 531 3122 666 \nL 3122 134 \nQ 2881 22 2623 -34 \nQ 2366 -91 2075 -91 \nQ 1284 -91 818 406 \nQ 353 903 353 1747 \nQ 353 2603 823 3093 \nQ 1294 3584 2113 3584 \nQ 2378 3584 2631 3529 \nQ 2884 3475 3122 3366 \nz\n\" transform=\"scale(0.015625)\"/>\n       <path id=\"DejaVuSans-76\" d=\"M 191 3500 \nL 800 3500 \nL 1894 563 \nL 2988 3500 \nL 3597 3500 \nL 2284 0 \nL 1503 0 \nL 191 3500 \nz\n\" transform=\"scale(0.015625)\"/>\n       <path id=\"DejaVuSans-6c\" d=\"M 603 4863 \nL 1178 4863 \nL 1178 0 \nL 603 0 \nL 603 4863 \nz\n\" transform=\"scale(0.015625)\"/>\n      </defs>\n      <use xlink:href=\"#DejaVuSans-66\"/>\n      <use xlink:href=\"#DejaVuSans-75\" x=\"35.205078\"/>\n      <use xlink:href=\"#DejaVuSans-6e\" x=\"98.583984\"/>\n      <use xlink:href=\"#DejaVuSans-63\" x=\"161.962891\"/>\n      <use xlink:href=\"#DejaVuSans-69\" x=\"216.943359\"/>\n      <use xlink:href=\"#DejaVuSans-6f\" x=\"244.726562\"/>\n      <use xlink:href=\"#DejaVuSans-6e\" x=\"305.908203\"/>\n      <use xlink:href=\"#DejaVuSans-20\" x=\"369.287109\"/>\n      <use xlink:href=\"#DejaVuSans-76\" x=\"401.074219\"/>\n      <use xlink:href=\"#DejaVuSans-61\" x=\"460.253906\"/>\n      <use xlink:href=\"#DejaVuSans-6c\" x=\"521.533203\"/>\n      <use xlink:href=\"#DejaVuSans-75\" x=\"549.316406\"/>\n      <use xlink:href=\"#DejaVuSans-65\" x=\"612.695312\"/>\n     </g>\n    </g>\n   </g>\n   <g id=\"line2d_16\">\n    <path d=\"M 80.767067 18.037561 \nL 84.892036 18.041518 \nL 89.017005 18.049103 \nL 93.141974 18.106781 \nL 97.266943 18.199071 \nL 101.391911 19.040874 \nL 105.51688 20.62907 \nL 109.641849 21.527801 \nL 113.766818 23.148974 \nL 117.891787 26.141981 \nL 122.016756 31.436776 \nL 126.141724 40.386045 \nL 130.266693 55.453969 \nL 134.391662 79.83609 \nL 138.516631 107.331691 \nL 142.6416 116.765979 \nL 146.766568 134.175244 \nL 150.891537 163.050997 \nL 155.016506 178.395097 \nL 159.141475 194.872877 \nL 163.266444 201.26148 \nL 167.391412 202.859515 \nL 171.516381 203.101086 \nL 175.64135 203.131495 \nL 179.766319 203.160592 \nL 183.891288 203.165634 \nL 188.016257 203.166722 \nL 192.141225 203.168207 \nL 196.266194 203.170883 \nL 200.391163 203.175869 \nL 204.516132 203.185254 \nL 208.641101 203.202867 \nL 212.766069 203.234966 \nL 216.891038 203.284735 \nL 221.016007 203.322044 \nL 225.140976 203.37846 \nL 229.265945 203.468958 \nL 233.390913 203.534013 \nL 237.515882 203.546372 \nL 241.640851 203.648187 \nL 245.76582 204.016756 \nL 249.890789 204.131177 \nL 254.015758 204.347874 \nL 258.140726 204.751969 \nL 262.265695 205.428965 \nL 266.390664 206.466185 \nL 270.515633 208.059963 \nL 274.640602 210.609093 \nL 278.76557 214.585174 \nL 282.890539 217.77577 \nL 287.015508 218.633983 \nL 291.140477 220.151545 \nL 295.265446 222.694473 \nL 299.390414 225.794204 \nL 303.515383 227.128032 \nL 307.640352 228.527219 \nL 311.765321 229.373063 \nL 315.89029 229.460202 \nL 320.015258 229.58339 \nL 324.140227 229.760615 \nL 328.265196 230.031948 \nL 332.390165 230.452523 \nL 336.515134 230.966988 \nL 340.640103 231.368011 \nL 344.765071 231.744378 \nL 348.89004 231.837564 \nL 353.015009 231.872928 \nL 357.139978 231.893297 \nL 361.264947 231.898324 \nL 365.389915 231.899902 \nL 369.514884 231.899992 \nL 373.639853 231.9 \nL 377.764822 231.9 \nL 381.889791 231.9 \nL 386.014759 231.9 \nL 390.139728 231.9 \nL 394.264697 231.9 \nL 398.389666 231.9 \n\" clip-path=\"url(#p73c1663411)\" style=\"fill: none; stroke: #1f77b4; stroke-width: 1.5; stroke-linecap: square\"/>\n   </g>\n   <g id=\"line2d_17\">\n    <path d=\"M 80.767067 17.9 \nL 84.892036 18.01942 \nL 89.017005 18.039206 \nL 93.141974 18.041626 \nL 97.266943 18.041725 \nL 101.391911 18.041737 \nL 105.51688 18.041738 \nL 109.641849 18.041738 \nL 113.766818 18.041738 \nL 117.891787 18.041738 \nL 122.016756 18.041738 \nL 126.141724 18.041738 \nL 130.266693 18.041738 \nL 134.391662 18.041738 \nL 138.516631 18.041738 \nL 142.6416 18.041738 \nL 146.766568 18.041738 \nL 150.891537 18.041738 \nL 155.016506 18.041738 \nL 159.141475 18.041738 \nL 163.266444 18.041738 \nL 167.391412 18.041738 \nL 171.516381 18.041739 \nL 175.64135 18.04174 \nL 179.766319 18.04174 \nL 183.891288 18.04174 \nL 188.016257 18.04174 \nL 192.141225 18.04174 \nL 196.266194 18.04174 \nL 200.391163 18.04174 \nL 204.516132 18.04174 \nL 208.641101 18.04174 \nL 212.766069 18.04174 \nL 216.891038 18.04174 \nL 221.016007 18.04174 \nL 225.140976 18.04174 \nL 229.265945 18.04174 \nL 233.390913 18.04174 \nL 237.515882 18.04174 \nL 241.640851 18.04174 \nL 245.76582 18.04174 \nL 249.890789 18.04174 \nL 254.015758 18.04174 \nL 258.140726 18.04174 \nL 262.265695 18.04174 \nL 266.390664 18.04174 \nL 270.515633 18.04174 \nL 274.640602 18.04174 \nL 278.76557 18.04174 \nL 282.890539 18.04174 \nL 287.015508 18.04174 \nL 291.140477 18.04174 \n\" clip-path=\"url(#p73c1663411)\" style=\"fill: none; stroke: #ff7f0e; stroke-width: 1.5; stroke-linecap: square\"/>\n   </g>\n   <g id=\"patch_3\">\n    <path d=\"M 64.885938 242.6 \nL 64.885938 7.2 \n\" style=\"fill: none; stroke: #000000; stroke-width: 0.8; stroke-linejoin: miter; stroke-linecap: square\"/>\n   </g>\n   <g id=\"patch_4\">\n    <path d=\"M 414.270796 242.6 \nL 414.270796 7.2 \n\" style=\"fill: none; stroke: #000000; stroke-width: 0.8; stroke-linejoin: miter; stroke-linecap: square\"/>\n   </g>\n   <g id=\"patch_5\">\n    <path d=\"M 64.885938 242.6 \nL 414.270796 242.6 \n\" style=\"fill: none; stroke: #000000; stroke-width: 0.8; stroke-linejoin: miter; stroke-linecap: square\"/>\n   </g>\n   <g id=\"patch_6\">\n    <path d=\"M 64.885938 7.2 \nL 414.270796 7.2 \n\" style=\"fill: none; stroke: #000000; stroke-width: 0.8; stroke-linejoin: miter; stroke-linecap: square\"/>\n   </g>\n   <g id=\"legend_1\">\n    <g id=\"patch_7\">\n     <path d=\"M 327.978608 44.55625 \nL 407.270796 44.55625 \nQ 409.270796 44.55625 409.270796 42.55625 \nL 409.270796 14.2 \nQ 409.270796 12.2 407.270796 12.2 \nL 327.978608 12.2 \nQ 325.978608 12.2 325.978608 14.2 \nL 325.978608 42.55625 \nQ 325.978608 44.55625 327.978608 44.55625 \nz\n\" style=\"fill: #ffffff; opacity: 0.8; stroke: #cccccc; stroke-linejoin: miter\"/>\n    </g>\n    <g id=\"line2d_18\">\n     <path d=\"M 329.978608 20.298438 \nL 339.978608 20.298438 \nL 349.978608 20.298438 \n\" style=\"fill: none; stroke: #1f77b4; stroke-width: 1.5; stroke-linecap: square\"/>\n    </g>\n    <g id=\"text_18\">\n     <!-- improved -->\n     <g transform=\"translate(357.978608 23.798438)scale(0.1 -0.1)\">\n      <defs>\n       <path id=\"DejaVuSans-70\" d=\"M 1159 525 \nL 1159 -1331 \nL 581 -1331 \nL 581 3500 \nL 1159 3500 \nL 1159 2969 \nQ 1341 3281 1617 3432 \nQ 1894 3584 2278 3584 \nQ 2916 3584 3314 3078 \nQ 3713 2572 3713 1747 \nQ 3713 922 3314 415 \nQ 2916 -91 2278 -91 \nQ 1894 -91 1617 61 \nQ 1341 213 1159 525 \nz\nM 3116 1747 \nQ 3116 2381 2855 2742 \nQ 2594 3103 2138 3103 \nQ 1681 3103 1420 2742 \nQ 1159 2381 1159 1747 \nQ 1159 1113 1420 752 \nQ 1681 391 2138 391 \nQ 2594 391 2855 752 \nQ 3116 1113 3116 1747 \nz\n\" transform=\"scale(0.015625)\"/>\n       <path id=\"DejaVuSans-64\" d=\"M 2906 2969 \nL 2906 4863 \nL 3481 4863 \nL 3481 0 \nL 2906 0 \nL 2906 525 \nQ 2725 213 2448 61 \nQ 2172 -91 1784 -91 \nQ 1150 -91 751 415 \nQ 353 922 353 1747 \nQ 353 2572 751 3078 \nQ 1150 3584 1784 3584 \nQ 2172 3584 2448 3432 \nQ 2725 3281 2906 2969 \nz\nM 947 1747 \nQ 947 1113 1208 752 \nQ 1469 391 1925 391 \nQ 2381 391 2643 752 \nQ 2906 1113 2906 1747 \nQ 2906 2381 2643 2742 \nQ 2381 3103 1925 3103 \nQ 1469 3103 1208 2742 \nQ 947 2381 947 1747 \nz\n\" transform=\"scale(0.015625)\"/>\n      </defs>\n      <use xlink:href=\"#DejaVuSans-69\"/>\n      <use xlink:href=\"#DejaVuSans-6d\" x=\"27.783203\"/>\n      <use xlink:href=\"#DejaVuSans-70\" x=\"125.195312\"/>\n      <use xlink:href=\"#DejaVuSans-72\" x=\"188.671875\"/>\n      <use xlink:href=\"#DejaVuSans-6f\" x=\"227.535156\"/>\n      <use xlink:href=\"#DejaVuSans-76\" x=\"288.716797\"/>\n      <use xlink:href=\"#DejaVuSans-65\" x=\"347.896484\"/>\n      <use xlink:href=\"#DejaVuSans-64\" x=\"409.419922\"/>\n     </g>\n    </g>\n    <g id=\"line2d_19\">\n     <path d=\"M 329.978608 34.976563 \nL 339.978608 34.976563 \nL 349.978608 34.976563 \n\" style=\"fill: none; stroke: #ff7f0e; stroke-width: 1.5; stroke-linecap: square\"/>\n    </g>\n    <g id=\"text_19\">\n     <!-- default -->\n     <g transform=\"translate(357.978608 38.476563)scale(0.1 -0.1)\">\n      <use xlink:href=\"#DejaVuSans-64\"/>\n      <use xlink:href=\"#DejaVuSans-65\" x=\"63.476562\"/>\n      <use xlink:href=\"#DejaVuSans-66\" x=\"125\"/>\n      <use xlink:href=\"#DejaVuSans-61\" x=\"160.205078\"/>\n      <use xlink:href=\"#DejaVuSans-75\" x=\"221.484375\"/>\n      <use xlink:href=\"#DejaVuSans-6c\" x=\"284.863281\"/>\n      <use xlink:href=\"#DejaVuSans-74\" x=\"312.646484\"/>\n     </g>\n    </g>\n   </g>\n  </g>\n </g>\n <defs>\n  <clipPath id=\"p73c1663411\">\n   <rect x=\"64.885938\" y=\"7.2\" width=\"349.384858\" height=\"235.4\"/>\n  </clipPath>\n </defs>\n</svg>\n",
      "image/png": "[encoded data removed]"
     },
     "metadata": {
      "needs_background": "light"
     }
    }
   ],
   "metadata": {}
  },
  {
   "cell_type": "code",
   "execution_count": null,
   "source": [],
   "outputs": [],
   "metadata": {}
  }
 ],
 "metadata": {
  "interpreter": {
   "hash": "c23e391e05b5a32efcb252fc25fc83fea30de7202ac8d83da6f3f57abb056cdc"
  },
  "kernelspec": {
   "name": "python3",
   "display_name": "Python 3.8.10 64-bit ('venv': venv)"
  },
  "language_info": {
   "codemirror_mode": {
    "name": "ipython",
    "version": 3
   },
   "file_extension": ".py",
   "mimetype": "text/x-python",
   "name": "python",
   "nbconvert_exporter": "python",
   "pygments_lexer": "ipython3",
   "version": "3.8.10"
  },
  "orig_nbformat": 4
 },
 "nbformat": 4,
 "nbformat_minor": 2
}